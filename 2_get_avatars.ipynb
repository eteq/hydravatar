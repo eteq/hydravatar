{
 "cells": [
  {
   "cell_type": "code",
   "execution_count": 8,
   "id": "043c91a6-5c67-45e6-8467-bfc600c72a26",
   "metadata": {},
   "outputs": [],
   "source": [
    "import io\n",
    "from pathlib import Path\n",
    "import pickle\n",
    "from PIL import Image\n",
    "\n",
    "import numpy as np\n",
    "\n",
    "import requests\n",
    "from tqdm.notebook import tqdm"
   ]
  },
  {
   "cell_type": "code",
   "execution_count": 9,
   "id": "36ddf861-0697-4c38-a6a6-28dbcca182a2",
   "metadata": {},
   "outputs": [
    {
     "data": {
      "text/plain": [
       "632"
      ]
     },
     "execution_count": 9,
     "metadata": {},
     "output_type": "execute_result"
    }
   ],
   "source": [
    "with open('name_to_avatar_map.pickle', 'rb') as f:\n",
    "    name_to_avatar_map = pickle.load(f)\n",
    "len(name_to_avatar_map)"
   ]
  },
  {
   "cell_type": "code",
   "execution_count": 10,
   "id": "142668b1-94a5-44ed-96c0-f20706a89804",
   "metadata": {},
   "outputs": [],
   "source": [
    "avdir = Path('avatars/')\n",
    "default = avdir / 'default'\n",
    "nondefault = avdir / 'nondefault'\n",
    "for d in [avdir, default, nondefault]:\n",
    "    if not d.is_dir():\n",
    "        d.mkdir()"
   ]
  },
  {
   "cell_type": "markdown",
   "id": "2ebfb82b-6a77-439e-a4d6-cd515e851c47",
   "metadata": {},
   "source": [
    "Test run - first one is a custom, second is a default"
   ]
  },
  {
   "cell_type": "code",
   "execution_count": 11,
   "id": "49d2553f-e6f5-4f39-a96e-36c327f9be39",
   "metadata": {},
   "outputs": [
    {
     "data": {
      "text/plain": [
       "(20560, 'image/jpeg')"
      ]
     },
     "execution_count": 11,
     "metadata": {},
     "output_type": "execute_result"
    }
   ],
   "source": [
    "nm, avurl = next(iter(name_to_avatar_map.items()))\n",
    "\n",
    "r1 = requests.get(avurl)\n",
    "im1 = Image.open(io.BytesIO(r1.content))\n",
    "\n",
    "arr1 = np.array(im1)\n",
    "flattenedarr1 = arr1.reshape(arr1.size//arr1.shape[-1], arr1.shape[-1])\n",
    "unique_colors1 = np.unique(flattenedarr1, axis=0)\n",
    "unique_colors1.shape[0], r1.headers['Content-Type']"
   ]
  },
  {
   "cell_type": "code",
   "execution_count": 12,
   "id": "880aa3f2-5533-4a3d-9783-88d347a48dd4",
   "metadata": {},
   "outputs": [
    {
     "data": {
      "text/plain": [
       "(2, 'image/png')"
      ]
     },
     "execution_count": 12,
     "metadata": {},
     "output_type": "execute_result"
    }
   ],
   "source": [
    "nm = 'larrybradley'\n",
    "avurl = name_to_avatar_map[nm]\n",
    "\n",
    "r1 = requests.get(avurl)\n",
    "im1 = Image.open(io.BytesIO(r1.content))\n",
    "\n",
    "arr1 = np.array(im1)\n",
    "flattenedarr1 = arr1.reshape(arr1.size//arr1.shape[-1], arr1.shape[-1])\n",
    "unique_colors1 = np.unique(flattenedarr1, axis=0)\n",
    "unique_colors1.shape[0], r1.headers['Content-Type']"
   ]
  },
  {
   "cell_type": "code",
   "execution_count": 13,
   "id": "c981667e-445a-4220-8b6a-fd4b50f4717e",
   "metadata": {},
   "outputs": [
    {
     "data": {
      "text/plain": [
       "'4992897'"
      ]
     },
     "execution_count": 13,
     "metadata": {},
     "output_type": "execute_result"
    }
   ],
   "source": [
    "avurl.split('/')[-1].split('?')[0]"
   ]
  },
  {
   "cell_type": "code",
   "execution_count": 14,
   "id": "bac72dd3-b118-4de1-9465-1fdb8a8388d6",
   "metadata": {},
   "outputs": [
    {
     "data": {
      "application/vnd.jupyter.widget-view+json": {
       "model_id": "8d4d0b47052549608b2f8e8e7f792f5f",
       "version_major": 2,
       "version_minor": 0
      },
      "text/plain": [
       "  0%|          | 0/632 [00:00<?, ?it/s]"
      ]
     },
     "metadata": {},
     "output_type": "display_data"
    }
   ],
   "source": [
    "for nm, avurl in tqdm(list(name_to_avatar_map.items())):\n",
    "    r = requests.get(avurl)\n",
    "    im = Image.open(io.BytesIO(r.content))\n",
    "    arr = np.array(im)\n",
    "    flattenedarr = arr.reshape(arr.size//arr.shape[-1], arr.shape[-1])\n",
    "    unique_colors = np.unique(flattenedarr, axis=0)\n",
    "\n",
    "    fnm = nm + '.' + r.headers['Content-Type'].split('/')[-1]\n",
    "\n",
    "    if unique_colors.shape[0] == 2:\n",
    "        outfn = default / fnm\n",
    "    else:\n",
    "        outfn = nondefault / fnm\n",
    "\n",
    "    with outfn.open('wb') as f:\n",
    "        f.write(r.content)\n",
    "    "
   ]
  },
  {
   "cell_type": "code",
   "execution_count": null,
   "id": "672f5076-efa3-4218-b374-b56894409665",
   "metadata": {},
   "outputs": [],
   "source": []
  }
 ],
 "metadata": {
  "kernelspec": {
   "display_name": "Python 3 (ipykernel)",
   "language": "python",
   "name": "python3"
  },
  "language_info": {
   "codemirror_mode": {
    "name": "ipython",
    "version": 3
   },
   "file_extension": ".py",
   "mimetype": "text/x-python",
   "name": "python",
   "nbconvert_exporter": "python",
   "pygments_lexer": "ipython3",
   "version": "3.12.5"
  }
 },
 "nbformat": 4,
 "nbformat_minor": 5
}
