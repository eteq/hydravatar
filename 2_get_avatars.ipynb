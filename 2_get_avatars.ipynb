{
 "cells": [
  {
   "cell_type": "code",
   "execution_count": 1,
   "id": "043c91a6-5c67-45e6-8467-bfc600c72a26",
   "metadata": {},
   "outputs": [],
   "source": [
    "import io\n",
    "from pathlib import Path\n",
    "import pickle\n",
    "from PIL import Image\n",
    "\n",
    "import numpy as np\n",
    "\n",
    "import requests\n",
    "from tqdm.notebook import tqdm"
   ]
  },
  {
   "cell_type": "code",
   "execution_count": 2,
   "id": "36ddf861-0697-4c38-a6a6-28dbcca182a2",
   "metadata": {},
   "outputs": [
    {
     "data": {
      "text/plain": [
       "629"
      ]
     },
     "execution_count": 2,
     "metadata": {},
     "output_type": "execute_result"
    }
   ],
   "source": [
    "with open('name_to_avatar_map.pickle', 'rb') as f:\n",
    "    name_to_avatar_map = pickle.load(f)\n",
    "len(name_to_avatar_map)"
   ]
  },
  {
   "cell_type": "code",
   "execution_count": 3,
   "id": "142668b1-94a5-44ed-96c0-f20706a89804",
   "metadata": {},
   "outputs": [],
   "source": [
    "avdir = Path('avatars/')\n",
    "default = avdir / 'default'\n",
    "nondefault = avdir / 'nondefault'\n",
    "for d in [avdir, default, nondefault]:\n",
    "    if not d.is_dir():\n",
    "        d.mkdir()"
   ]
  },
  {
   "cell_type": "markdown",
   "id": "2ebfb82b-6a77-439e-a4d6-cd515e851c47",
   "metadata": {},
   "source": [
    "Test run - first one is a custom, second is a default"
   ]
  },
  {
   "cell_type": "code",
   "execution_count": 4,
   "id": "49d2553f-e6f5-4f39-a96e-36c327f9be39",
   "metadata": {},
   "outputs": [
    {
     "data": {
      "text/plain": [
       "(20560, 'image/jpeg')"
      ]
     },
     "execution_count": 4,
     "metadata": {},
     "output_type": "execute_result"
    }
   ],
   "source": [
    "nm, avurl = next(iter(name_to_avatar_map.items()))\n",
    "\n",
    "r1 = requests.get(avurl)\n",
    "im1 = Image.open(io.BytesIO(r1.content))\n",
    "\n",
    "arr1 = np.array(im1)\n",
    "flattenedarr1 = arr1.reshape(arr1.size//arr1.shape[-1], arr1.shape[-1])\n",
    "unique_colors1 = np.unique(flattenedarr1, axis=0)\n",
    "unique_colors1.shape[0], r1.headers['Content-Type']"
   ]
  },
  {
   "cell_type": "code",
   "execution_count": 5,
   "id": "880aa3f2-5533-4a3d-9783-88d347a48dd4",
   "metadata": {},
   "outputs": [
    {
     "data": {
      "text/plain": [
       "(2, 'image/png')"
      ]
     },
     "execution_count": 5,
     "metadata": {},
     "output_type": "execute_result"
    }
   ],
   "source": [
    "nm = 'walkerna22' #this is a random user who has a default avatar\n",
    "avurl = name_to_avatar_map[nm]\n",
    "\n",
    "r1 = requests.get(avurl)\n",
    "im1 = Image.open(io.BytesIO(r1.content))\n",
    "\n",
    "arr1 = np.array(im1)\n",
    "flattenedarr1 = arr1.reshape(arr1.size//arr1.shape[-1], arr1.shape[-1])\n",
    "unique_colors1 = np.unique(flattenedarr1, axis=0)\n",
    "unique_colors1.shape[0], r1.headers['Content-Type']"
   ]
  },
  {
   "cell_type": "markdown",
   "id": "b09c75d7-4ec3-41d9-a4cb-17430280c499",
   "metadata": {},
   "source": [
    "People who specifically requested to be on the list despite having default avatars or things that look like default avatars:"
   ]
  },
  {
   "cell_type": "code",
   "execution_count": 6,
   "id": "38c39697-b74f-4db7-9227-d1631d4b8e4f",
   "metadata": {},
   "outputs": [],
   "source": [
    "override_list_include = ['larrybradley']\n",
    "override_list_exclude = ['pre-commit-ci[bot]', 'dependabot[bot]']"
   ]
  },
  {
   "cell_type": "code",
   "execution_count": 7,
   "id": "bac72dd3-b118-4de1-9465-1fdb8a8388d6",
   "metadata": {},
   "outputs": [
    {
     "data": {
      "application/vnd.jupyter.widget-view+json": {
       "model_id": "78f4a71408f74163ae272f8dbe3edca1",
       "version_major": 2,
       "version_minor": 0
      },
      "text/plain": [
       "  0%|          | 0/629 [00:00<?, ?it/s]"
      ]
     },
     "metadata": {},
     "output_type": "display_data"
    }
   ],
   "source": [
    "for nm, avurl in tqdm(list(name_to_avatar_map.items())):\n",
    "    r = requests.get(avurl)\n",
    "    im = Image.open(io.BytesIO(r.content))\n",
    "    arr = np.array(im)\n",
    "    flattenedarr = arr.reshape(arr.size//arr.shape[-1], arr.shape[-1])\n",
    "    unique_colors = np.unique(flattenedarr, axis=0)\n",
    "\n",
    "    fnm = nm + '.' + r.headers['Content-Type'].split('/')[-1]\n",
    "\n",
    "    if nm in override_list_exclude:\n",
    "        continue\n",
    "        \n",
    "    if nm not in override_list_include and unique_colors.shape[0] == 2:\n",
    "        outfn = default / fnm\n",
    "    else:\n",
    "        outfn = nondefault / fnm\n",
    "\n",
    "    with outfn.open('wb') as f:\n",
    "        f.write(r.content)\n",
    "    "
   ]
  }
 ],
 "metadata": {
  "kernelspec": {
   "display_name": "Python 3 (ipykernel)",
   "language": "python",
   "name": "python3"
  },
  "language_info": {
   "codemirror_mode": {
    "name": "ipython",
    "version": 3
   },
   "file_extension": ".py",
   "mimetype": "text/x-python",
   "name": "python",
   "nbconvert_exporter": "python",
   "pygments_lexer": "ipython3",
   "version": "3.12.6"
  }
 },
 "nbformat": 4,
 "nbformat_minor": 5
}
