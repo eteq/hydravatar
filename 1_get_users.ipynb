{
 "cells": [
  {
   "cell_type": "code",
   "execution_count": 1,
   "id": "aea8e777-5bf1-40f1-8f17-7b2ac9a6969b",
   "metadata": {},
   "outputs": [
    {
     "name": "stdout",
     "output_type": "stream",
     "text": [
      "getting token from token file\n"
     ]
    }
   ],
   "source": [
    "import os\n",
    "import pickle\n",
    "import getpass\n",
    "from github import Github\n",
    "from github import Auth\n",
    "\n",
    "if 'GITHUB_TOKEN' in os.environ:\n",
    "    print('getting token from envar')\n",
    "    auth = Auth.Token(os.environ['GITHUB_TOKEN'])\n",
    "elif os.path.isfile('gh_token'):\n",
    "    print('getting token from token file')\n",
    "    with open('gh_token') as f:\n",
    "        auth = Auth.Token(f.read().strip())\n",
    "else:\n",
    "    auth = Auth.Token(getpass.getpass('gh token'))\n",
    "\n",
    "gh = Github(auth=auth)"
   ]
  },
  {
   "cell_type": "code",
   "execution_count": 2,
   "id": "457f7e7a-6c84-457d-a1b6-7bb77f98a135",
   "metadata": {},
   "outputs": [],
   "source": [
    "repo = gh.get_repo('astropy/astropy')"
   ]
  },
  {
   "cell_type": "code",
   "execution_count": 3,
   "id": "0fa29564-7230-48f9-89c6-88dcc8106cc9",
   "metadata": {},
   "outputs": [
    {
     "data": {
      "text/plain": [
       "433"
      ]
     },
     "execution_count": 3,
     "metadata": {},
     "output_type": "execute_result"
    }
   ],
   "source": [
    "contribs = repo.get_contributors()\n",
    "contribs.totalCount"
   ]
  },
  {
   "cell_type": "code",
   "execution_count": 4,
   "id": "363bbba3-a65e-4d3e-af02-a23be3599f73",
   "metadata": {},
   "outputs": [
    {
     "data": {
      "text/plain": [
       "433"
      ]
     },
     "execution_count": 4,
     "metadata": {},
     "output_type": "execute_result"
    }
   ],
   "source": [
    "l = list(contribs)\n",
    "len(l)"
   ]
  },
  {
   "cell_type": "code",
   "execution_count": 5,
   "id": "b863422a-1157-4e16-a441-8d959459b1d3",
   "metadata": {},
   "outputs": [
    {
     "data": {
      "text/plain": [
       "('astrofrog', 'https://avatars.githubusercontent.com/u/314716?v=4')"
      ]
     },
     "execution_count": 5,
     "metadata": {},
     "output_type": "execute_result"
    }
   ],
   "source": [
    "u = l[0]\n",
    "u.login, u.avatar_url"
   ]
  },
  {
   "cell_type": "code",
   "execution_count": 6,
   "id": "11a4762e-bc35-4e36-a1eb-5452c5b9f717",
   "metadata": {},
   "outputs": [],
   "source": [
    "name_to_avatar_map = {u.login:u.avatar_url for u in l}"
   ]
  },
  {
   "cell_type": "markdown",
   "id": "8608faf3-7d79-4724-b6ca-d749e15e170a",
   "metadata": {},
   "source": [
    "Go through coordinated packages"
   ]
  },
  {
   "cell_type": "code",
   "execution_count": 7,
   "id": "6e781363-7ebf-43d2-ae00-404c64f2f017",
   "metadata": {},
   "outputs": [],
   "source": [
    "co_packs = [\"astroquery\", \"asdf-astropy\", \"astropy-healpix\", \"ccdproc\", \"photutils\", \"regions\", \"reproject\", \"specreduce\", \"specutils\"]"
   ]
  },
  {
   "cell_type": "code",
   "execution_count": 8,
   "id": "60860656-a2d2-47a0-9e39-023025a7e389",
   "metadata": {},
   "outputs": [
    {
     "name": "stdout",
     "output_type": "stream",
     "text": [
      "astroquery\n",
      "178\n",
      "\n",
      "asdf-astropy\n",
      "10\n",
      "\n",
      "astropy-healpix\n",
      "13\n",
      "\n",
      "ccdproc\n",
      "50\n",
      "\n",
      "photutils\n",
      "54\n",
      "\n",
      "regions\n",
      "21\n",
      "\n",
      "reproject\n",
      "23\n",
      "\n",
      "specreduce\n",
      "20\n",
      "\n",
      "specutils\n",
      "77\n",
      "\n"
     ]
    }
   ],
   "source": [
    "for c in co_packs:\n",
    "    print(c)\n",
    "    \n",
    "    repo = gh.get_repo(f'astropy/{c}')\n",
    "\n",
    "    contribs = repo.get_contributors()\n",
    "    print(contribs.totalCount)\n",
    "\n",
    "    l = list(contribs)\n",
    "\n",
    "    # This method will avoid duplicates\n",
    "    for u in l:\n",
    "        name_to_avatar_map[u.login] = u.avatar_url\n",
    "\n",
    "    print()"
   ]
  },
  {
   "cell_type": "code",
   "execution_count": 9,
   "id": "a347a7e0-795b-4f8e-b4b0-dda91537af88",
   "metadata": {},
   "outputs": [
    {
     "name": "stdout",
     "output_type": "stream",
     "text": [
      "629\n"
     ]
    }
   ],
   "source": [
    "print(len(name_to_avatar_map))"
   ]
  },
  {
   "cell_type": "code",
   "execution_count": 10,
   "id": "f25d2b79-a377-4466-b2f7-88e55fc6e947",
   "metadata": {},
   "outputs": [],
   "source": [
    "with open('name_to_avatar_map.pickle', 'wb') as f:\n",
    "    pickle.dump(name_to_avatar_map, f)"
   ]
  }
 ],
 "metadata": {
  "kernelspec": {
   "display_name": "Python 3 (ipykernel)",
   "language": "python",
   "name": "python3"
  },
  "language_info": {
   "codemirror_mode": {
    "name": "ipython",
    "version": 3
   },
   "file_extension": ".py",
   "mimetype": "text/x-python",
   "name": "python",
   "nbconvert_exporter": "python",
   "pygments_lexer": "ipython3",
   "version": "3.12.6"
  }
 },
 "nbformat": 4,
 "nbformat_minor": 5
}
