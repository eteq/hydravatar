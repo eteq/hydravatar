{
 "cells": [
  {
   "cell_type": "code",
   "execution_count": 27,
   "id": "aea8e777-5bf1-40f1-8f17-7b2ac9a6969b",
   "metadata": {},
   "outputs": [
    {
     "name": "stdout",
     "output_type": "stream",
     "text": [
      "getting token from token file\n"
     ]
    }
   ],
   "source": [
    "import os\n",
    "import pickle\n",
    "from github import Github\n",
    "from github import Auth\n",
    "\n",
    "if 'GITHUB_TOKEN' in os.environ:\n",
    "    print('getting token from envar')\n",
    "    auth = Auth.Token(os.environ['GITHUB_TOKEN'])\n",
    "elif os.path.isfile('gh_token'):\n",
    "    print('getting token from token file')\n",
    "    with open('gh_token') as f:\n",
    "        auth = Auth.Token(f.read().strip())\n",
    "else:\n",
    "    auth = Auth.Token(getpass.getpass('gh token'))\n",
    "\n",
    "gh = Github(auth=auth)"
   ]
  },
  {
   "cell_type": "code",
   "execution_count": 15,
   "id": "457f7e7a-6c84-457d-a1b6-7bb77f98a135",
   "metadata": {},
   "outputs": [],
   "source": [
    "repo = gh.get_repo('astropy/astropy')"
   ]
  },
  {
   "cell_type": "code",
   "execution_count": 14,
   "id": "0fa29564-7230-48f9-89c6-88dcc8106cc9",
   "metadata": {},
   "outputs": [
    {
     "data": {
      "text/plain": [
       "435"
      ]
     },
     "execution_count": 14,
     "metadata": {},
     "output_type": "execute_result"
    }
   ],
   "source": [
    "contribs = repo.get_contributors()\n",
    "contribs.totalCount"
   ]
  },
  {
   "cell_type": "code",
   "execution_count": 18,
   "id": "363bbba3-a65e-4d3e-af02-a23be3599f73",
   "metadata": {},
   "outputs": [
    {
     "data": {
      "text/plain": [
       "435"
      ]
     },
     "execution_count": 18,
     "metadata": {},
     "output_type": "execute_result"
    }
   ],
   "source": [
    "contribs = list(contribs)\n",
    "len(l)"
   ]
  },
  {
   "cell_type": "code",
   "execution_count": 25,
   "id": "b863422a-1157-4e16-a441-8d959459b1d3",
   "metadata": {},
   "outputs": [
    {
     "data": {
      "text/plain": [
       "('astrofrog', 'https://avatars.githubusercontent.com/u/314716?v=4')"
      ]
     },
     "execution_count": 25,
     "metadata": {},
     "output_type": "execute_result"
    }
   ],
   "source": [
    "u = l[0]\n",
    "u.login, u.avatar_url"
   ]
  },
  {
   "cell_type": "code",
   "execution_count": 30,
   "id": "11a4762e-bc35-4e36-a1eb-5452c5b9f717",
   "metadata": {},
   "outputs": [],
   "source": [
    "name_to_avatar_map = {u.login:u.avatar_url for u in contribs}"
   ]
  },
  {
   "cell_type": "code",
   "execution_count": 31,
   "id": "f25d2b79-a377-4466-b2f7-88e55fc6e947",
   "metadata": {},
   "outputs": [],
   "source": [
    "with open('name_to_avatar_map.pickle', 'wb') as f:\n",
    "    pickle.dump(name_to_avatar_map, f)"
   ]
  },
  {
   "cell_type": "markdown",
   "id": "5405158d-e0a9-4017-af0c-bbf58896c98d",
   "metadata": {},
   "source": [
    "Can add additional repos folllowing the same pattern."
   ]
  }
 ],
 "metadata": {
  "kernelspec": {
   "display_name": "Python 3 (ipykernel)",
   "language": "python",
   "name": "python3"
  },
  "language_info": {
   "codemirror_mode": {
    "name": "ipython",
    "version": 3
   },
   "file_extension": ".py",
   "mimetype": "text/x-python",
   "name": "python",
   "nbconvert_exporter": "python",
   "pygments_lexer": "ipython3",
   "version": "3.12.4"
  }
 },
 "nbformat": 4,
 "nbformat_minor": 5
}
